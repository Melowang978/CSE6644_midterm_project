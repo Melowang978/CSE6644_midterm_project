{
 "cells": [
  {
   "cell_type": "markdown",
   "id": "efa3a92d",
   "metadata": {},
   "source": [
    "# Preconditioned Conjugate Gradient Algorithm on Toeplitz Matrix Computation"
   ]
  },
  {
   "cell_type": "markdown",
   "id": "293e7655",
   "metadata": {},
   "source": [
    "# Aurthor: Xiangyu Wang\n",
    "\n",
    "# Instructor: Dr. Haomin Zhou"
   ]
  },
  {
   "cell_type": "markdown",
   "id": "2947c780",
   "metadata": {},
   "source": [
    "## Project Inroduction"
   ]
  },
  {
   "cell_type": "markdown",
   "id": "8a0e9cbd",
   "metadata": {},
   "source": [
    "In computational mathematics, people define iterative method as a mathematical procedure that uses an initial value to generate a sequence of improving approximate solutions for a class of problems, in which the n-th approximation is derived from the previous ones. Iterative method also contains terminating criteria, which is designed by different purposes. $10^{-6}$ is usually a reasonal terminating critrion. Iterative method used for getting convergency in order to abate the direct method's computational complexity. In terms of applying iterative method into numerical linear algebra, we can implement matrix vector multiplications way faster than directly solve them. $CG$ algorithm a one of classic iteration methods. The main idea of $CG$ is to reduce the residual by iterations and get a convergence. \n",
    "\n",
    "Preconditioners are used to decrease the condition number in order to make the iteration number independant of matrix size. There are different ways to deisng preconditioners. In this project, we area dealing with a special case. We would have toeplitz matrix as the multiplier, a toeplitz matrix contains constant on the diagonal. In addition, we will design circulant matrix as our preconditioner. In the end, according to the property of circulant matrix, it is able to design a fast fourier transform of the first column to improve our $CG$ algorithm in another level.\n",
    "\n",
    "The details will be expressed in the following section. "
   ]
  },
  {
   "cell_type": "markdown",
   "id": "045d3b71",
   "metadata": {},
   "source": [
    "## Python jupyter notebook introduciton"
   ]
  },
  {
   "cell_type": "markdown",
   "id": "5861b88e",
   "metadata": {},
   "source": [
    "To test the code, we need to have jupyter notebook and Python 3.0 or newer version installed in our PC.\n",
    "\n",
    "There are few libraries used in this project. We have to make sure they are installed in PC before we run the following cell. We can do this in Terminal.\n",
    "\n",
    "To run the code, we just select the code cell and hit run on the tool bar. Then we can run the code. Make sure we run it in correct order so it could store correct data.\n",
    "\n",
    "Here are the libraries involved in this project.\n"
   ]
  },
  {
   "cell_type": "code",
   "execution_count": 368,
   "id": "31905d90",
   "metadata": {},
   "outputs": [],
   "source": [
    "import numpy as np\n",
    "import math\n",
    "from numpy.linalg import inv\n",
    "import matplotlib.pyplot as plt\n",
    "from sklearn.metrics import mean_squared_error\n",
    "from sympy import *\n",
    "from scipy.integrate import quad\n",
    "import scipy.fft\n",
    "import time"
   ]
  },
  {
   "cell_type": "markdown",
   "id": "9e9e2f59",
   "metadata": {},
   "source": [
    "## CG & PCG algorithm"
   ]
  },
  {
   "cell_type": "markdown",
   "id": "405f17e1",
   "metadata": {},
   "source": [
    "According to the lecture, the algorithm of $CG$ algorithm is coded up as following:\n",
    "\n",
    "Remark: the termination criteria is $\\frac{\\|r_k\\|}{\\|r_0\\|} \\leq 10^{-6}$ as stated in the project statement."
   ]
  },
  {
   "cell_type": "code",
   "execution_count": 154,
   "id": "cf0227d5",
   "metadata": {},
   "outputs": [],
   "source": [
    "def conjugate_grad(A, b, it = 10000):\n",
    "    n = A.shape[0]\n",
    "    x = np.zeros(n)\n",
    "    r = b - np.dot(A, x)\n",
    "    r0 = r.copy()\n",
    "    p = r.copy()\n",
    "    r_old = np.inner(r, r)\n",
    "    rk_norm = np.linalg.norm(r)\n",
    "    for it in range(it):\n",
    "        q = np.dot(A,p)\n",
    "        alpha = r_old / np.inner(p, q) \n",
    "        x += alpha * p \n",
    "        r -= alpha * q \n",
    "        r_new = np.inner(r, r) \n",
    "        rk_norm = np.linalg.norm(r)\n",
    "        r0_norm = np.linalg.norm(r0)\n",
    "        if rk_norm / r0_norm <= 1e-6:\n",
    "            break\n",
    "        beta = r_new / r_old \n",
    "        p = r + beta * p \n",
    "        r_old = r_new.copy() # Update the inner_product of the r inner product\n",
    "    return x, it+1"
   ]
  },
  {
   "cell_type": "markdown",
   "id": "8cb2a719",
   "metadata": {},
   "source": [
    "According to the lecture, the algorithm of $PCG$ algorithm is coded up as following:\n",
    "\n",
    "Compared to $CG$, $PCG$ has conditioner within and there are more matrix vector multiplication needed to be dealt with later on.\n",
    "\n",
    "Remark: the termination criteria is $\\frac{\\|r_k\\|}{\\|r_0\\|} \\leq 10^{-6}$ as stated in the project statement."
   ]
  },
  {
   "cell_type": "code",
   "execution_count": 155,
   "id": "ffd9205c",
   "metadata": {},
   "outputs": [],
   "source": [
    "# 2 fft and 2 inverse fft\n",
    "def pcg(A, b, M, it = 10000):\n",
    "    x = np.zeros(n)\n",
    "    r = b - A @ x#\n",
    "    r0 = r.copy()\n",
    "    z = np.zeros(n)\n",
    "    z_bef = inv(M) @ r\n",
    "    p = np.squeeze(z_bef.copy())\n",
    "    for i in range(n):\n",
    "        r_bef = r\n",
    "        q = A @ p\n",
    "        alpha = (r_bef @ z_bef)/(p @ q)\n",
    "        x = x + alpha*p\n",
    "        r = r_bef - alpha*q\n",
    "        z = inv(M) @ r\n",
    "        if (np.linalg.norm(r)/np.linalg.norm(r0)) < 1e-6:\n",
    "            break\n",
    "        else:\n",
    "            beta = np.dot(r,z)/np.dot(r_bef,z_bef)\n",
    "            p = np.squeeze(z + beta*p)\n",
    "            z_bef = np.squeeze(z)\n",
    "\n",
    "    return x, i+1"
   ]
  },
  {
   "cell_type": "markdown",
   "id": "a048ff29",
   "metadata": {},
   "source": [
    "If you read till here, I suggest read the $PCG$ $FFT$ $algorithm$ part at the end because to accomplish that we need to introduce toeplitz matrix and circulant matrix before. I will clearly express the way I design these $2$ matrixes in the following portions."
   ]
  },
  {
   "cell_type": "markdown",
   "id": "736268ab",
   "metadata": {},
   "source": [
    "## PCG_FFT  algorithm"
   ]
  },
  {
   "cell_type": "markdown",
   "id": "cf1222d7",
   "metadata": {},
   "source": [
    "Welcome back! Now we are clear about the formation of toeplitz and circulant matrices. As we stated in the first portion, in this portion we will use the property of circulant matrices and modify our previous PCG method.\n",
    "\n",
    "Matrix vector multiplication will be extremely expensive when we have large dataset. In the PCG method, we have 4 matrix vector multiplication, two of them containing a inverse multiplication. \n",
    "\n",
    "If a matrix is circulant, then we have $C_n$ = $F_n^*$$diag(\\sqrt n F_n)F_n$, here, $F_n$ is unitary DFT matrix.\n",
    "\n",
    "$[F]_{j,k}$ = $\\frac{1}{\\sqrt n}e^{\\frac{2\\pi ijk}{n}}$\n",
    "\n",
    "And the diagonal matrix with main diagonal elements. We can get to $\\frac{1}{\\sqrt N}F_n^*x$ can be calcuted by scipy.fft.ifft(x). Further, if we decomposite $C(x)y$, this is equivalent to ifft(fft(x).*fft(y)). According to this, we can design our FFT for the matrix vector multiplication.\n",
    "\n",
    "Now, if it is inverse matrix vector multiplication, we have \n",
    "\n",
    "$C^{-1}(x)$ = $(F_n^*$$diag(\\sqrt n F_n x)F_n)^{-1}$\n",
    "\n",
    "= $F_n^{-1}D^{-1}(\\sqrt n F_nx)F_n$\n",
    "\n",
    "We can use ifft(1/fft(x)) to express this.\n",
    "\n",
    "Therefore we get, $C^{-1}(x)y$ = ifft(fft(y)/fft(x))\n",
    "\n",
    "In our case, we would only use the first column of the circulant matrix.\n",
    "\n",
    "So we can design the FFT for the preconditioner mulitiplication becuase they are circulant. And we also need to transform toeplitz matrices to circulant matrixes. As stated in the project description, we will increase the A size as $2xn$ and embed a matrix into it. According to Dr. Paulo Jorge's paper, the embedding is designed as \n",
    "\n",
    "An arbitrary Toeplitz matrix matrix $T \\in M_n$ with elements\n",
    "\n",
    "$T_{ik}$ = $t_{i-k}$ $( 0\\leq i$, $k)$ can be embedded in a circulant C $\\in M_m$ if $m\\geq 2n-1$. In general, this leads to a matrix $C$ which will contain $l$ = $m - 2n +1$ arbitrary parameters $\\alpha_i$. THe embedding is defined by the elements $c_i$ of the first row of $C$,\n",
    "\n",
    "$C_i = t_i$  when $0\\leq i\\leq n$\n",
    "\n",
    "$C_i = \\alpha_{i-n}$  when $n\\leq i\\leq n+l$\n",
    "\n",
    "$C_i = t_{i-m}$  when $n+l\\leq i\\leq m$\n",
    "\n",
    "Here is my implenmetation:\n"
   ]
  },
  {
   "cell_type": "code",
   "execution_count": 156,
   "id": "48f571bf",
   "metadata": {},
   "outputs": [],
   "source": [
    "def A_2n(A):\n",
    "    n = A.shape[0]\n",
    "    first_column = A[:,0]\n",
    "    A_new_1 = np.zeros((n,n))\n",
    "    for i in range(n):\n",
    "        for j in range(n):\n",
    "            for k in range(1,n):\n",
    "                if j == i+k:\n",
    "                    A_new_1[i][j] = first_column[n-k]\n",
    "                if j == i-k:\n",
    "                    A_new_1[i][j] = first_column[n-k]\n",
    "    A_new = np.zeros((2*n,2*n))\n",
    "    A_new[0:n,0:n] = A\n",
    "    A_new[n:2*n,n:2*n] = A\n",
    "    A_new[n:2*n,0:n] = A_new_1\n",
    "    A_new[0:n,n:2*n] = A_new_1\n",
    "    \n",
    "    return A_new"
   ]
  },
  {
   "cell_type": "markdown",
   "id": "cad2ed36",
   "metadata": {},
   "source": [
    "When I try this matrix, it is very slow because it requires $O(n^3)$, becuase we would only need the first column,\n",
    "\n",
    "I creat a $O(n)$ function just return the first column as following, this increases my speed a lot."
   ]
  },
  {
   "cell_type": "code",
   "execution_count": 216,
   "id": "51ac266c",
   "metadata": {},
   "outputs": [],
   "source": [
    "def A_2n_fast(A):\n",
    "    n = A.shape[0]\n",
    "    A_new = np.zeros(2*n)\n",
    "    first_col = A[:,0]\n",
    "    A_new[0:n] = first_col\n",
    "    first_col = first_col[1:n] \n",
    "    A_new[n+1:2*n] = first_col[::-1]\n",
    "    return A_new"
   ]
  },
  {
   "cell_type": "code",
   "execution_count": 177,
   "id": "c48b0e03",
   "metadata": {},
   "outputs": [],
   "source": [
    "def b_2n(b):\n",
    "    b_new = np.zeros(2*n)\n",
    "    b_new[0:n] = b\n",
    "    return b_new"
   ]
  },
  {
   "cell_type": "markdown",
   "id": "c9ab9f06",
   "metadata": {},
   "source": [
    "According to the method I described above, I replaced four matrix vector multiplication as following:\n",
    "\n",
    "To match increased $A$, I put zeros into $p$ vector to match the dimension. In this case we will have a $2n$ vector as our result and we just take the first $n$ and take the real value."
   ]
  },
  {
   "cell_type": "code",
   "execution_count": 399,
   "id": "295ba946",
   "metadata": {},
   "outputs": [],
   "source": [
    "def pcg_fft(A, n, A_increase, b, M, it = 10000):\n",
    "    x = np.zeros(n)\n",
    "#     r = b - A @ x#\n",
    "    r = b - np.real(scipy.fft.ifft(scipy.fft.fft(A[:,0]) *  scipy.fft.fft(x)))\n",
    "    r0 = r.copy()\n",
    "    z = np.zeros(n)\n",
    "    # z_bef = inv(M) @ r #(inverse)\n",
    "    z_bef = np.real(scipy.fft.ifft(scipy.fft.fft(r) / scipy.fft.fft(M)))\n",
    "    p = z_bef.copy()\n",
    "    for i in range(it):\n",
    "        r_bef = r\n",
    "        p_temp = np.r_[p,np.zeros(n)]\n",
    "        q = np.real(scipy.fft.ifft(scipy.fft.fft(A_increase) * scipy.fft.fft(p_temp))[0:n])\n",
    "#         q = A @ p\n",
    "        alpha = (r_bef @ z_bef)/(p @ q)\n",
    "        x = x + alpha*p\n",
    "        r = r_bef - alpha*q\n",
    "#         z = inv(M) @ r#inverse\n",
    "        z = np.real(scipy.fft.ifft(scipy.fft.fft(r) / scipy.fft.fft(M)))\n",
    "        if (np.linalg.norm(r)/np.linalg.norm(r0)) < 1e-6:\n",
    "            break\n",
    "        else:\n",
    "            beta = np.dot(r,z)/np.dot(r_bef,z_bef)\n",
    "            p = z + beta*p\n",
    "#             p_temp[0:n] = p\n",
    "            z_bef = z\n",
    "    return x, i+1"
   ]
  },
  {
   "cell_type": "markdown",
   "id": "720480d3",
   "metadata": {},
   "source": [
    "## Form Toeplitz matrix"
   ]
  },
  {
   "cell_type": "markdown",
   "id": "4d646461",
   "metadata": {},
   "source": [
    "In this portion, I will describe the way I design toeplitz matrix. There are $2$ different toeplitz matrices."
   ]
  },
  {
   "cell_type": "markdown",
   "id": "e698b9ed",
   "metadata": {},
   "source": [
    "### First toeplitz system\n",
    "First toeplitz matrix is given by function $a_{k} = \\|k+1\\|^{-p}$ for the lower triangular part of $A_{n}.$\n",
    "\n",
    "According to the index of $A_n$, if $a_n$ is on lower triangular places, the row index of $a_n$ = span{i-1,i-2,...i-(n-1)}, where $i$ is the row index and the minus term will be the column index. So we can representate the index of $a$ as $i$ - $j$. In addition, we can express lower triangular places as $j$ < $i$. After this we just need to make A symmetric. The way I did was $A$ = $A$ + $A^T$ - $diag(A)$\n",
    "\n",
    "So the first toeplitz system formation will be as following:\n",
    "\n",
    "Here $n$ signifies the size of matrix and $p$ is the expotential order.\n"
   ]
  },
  {
   "cell_type": "code",
   "execution_count": 329,
   "id": "2547ebcd",
   "metadata": {},
   "outputs": [],
   "source": [
    "def toeplitz_1(n, p):\n",
    "    A = np.zeros((n, n))\n",
    "    for i in range(n):\n",
    "        for j in range(n):\n",
    "            if j < i:\n",
    "                A[i, j] = abs(i - j + 1)**(-p)\n",
    "            elif i == j:\n",
    "                A[i, j] = 1\n",
    "    # Make A as symmetric\n",
    "    A += A.T - np.diag(A.diagonal())\n",
    "    return A\n",
    "    "
   ]
  },
  {
   "cell_type": "code",
   "execution_count": 350,
   "id": "99770867",
   "metadata": {},
   "outputs": [
    {
     "name": "stdout",
     "output_type": "stream",
     "text": [
      "Simple example of first toeplitz system when n=3, p=1:\n",
      " [[1.         0.93303299 0.89595846]\n",
      " [0.93303299 1.         0.93303299]\n",
      " [0.89595846 0.93303299 1.        ]]\n"
     ]
    }
   ],
   "source": [
    "print('Simple example of first toeplitz system when n=3, p=0.1:\\n',toeplitz_1(3, 1/10))"
   ]
  },
  {
   "cell_type": "code",
   "execution_count": 354,
   "id": "a51fc3ac",
   "metadata": {},
   "outputs": [
    {
     "name": "stdout",
     "output_type": "stream",
     "text": [
      "Eigenvalue of this matrix = \n",
      " [2.84145923 0.10404154 0.05449923]\n"
     ]
    }
   ],
   "source": [
    "print('Eigenvalue of this matrix = \\n',np.linalg.eig(toeplitz_1(3, 1/10))[0])"
   ]
  },
  {
   "cell_type": "markdown",
   "id": "85d879bf",
   "metadata": {},
   "source": [
    "We can see that the eigenvalues when $p$<=$1$ are still positive, and $A$ is symmetric as designed. We can conclude that $A$ is still SPD if $p$<=$1$"
   ]
  },
  {
   "cell_type": "markdown",
   "id": "f9bf711d",
   "metadata": {},
   "source": [
    "### Second toeplitz system\n",
    "\n",
    "This method is based on Fast Fourier Transform$(FFT)$. As stated, $A_k = \\frac{1}{2\\pi}\\int^\\pi_{-\\pi} f(\\theta)e^{-ik\\theta}d\\theta$, $k$ = $0$, $-1$, $1$,... this is just as $A$ matrix index $i$-$j$.\n",
    "\n",
    "$f(\\theta)$ = $\\theta^4$ + $1$ for $\\theta \\in(-\\pi,\\pi)$. \n",
    "\n",
    "My first attempt was to integrate this function directly. I tried this method at the beginning and if the size of matrix is large, it will take forever to run becuae it has $O(n^3)$ as computational complexity.\n",
    "\n",
    "Here would be my first attempt\n"
   ]
  },
  {
   "cell_type": "code",
   "execution_count": 332,
   "id": "7d61715e",
   "metadata": {},
   "outputs": [],
   "source": [
    "def integrand(theta):  # a_0\n",
    "    return theta**4 + 1\n",
    "def integrand_2(theta,k):  # a_n\n",
    "    return (theta**4 + 1) * np.cos(k*theta)\n",
    "def integrand_3(theta,k):  # b_n, but this always equal to zero, not gonna use\n",
    "    return (theta**4 + 1) * np.sin(k*theta)\n",
    "\n",
    "def toeplitz_2_2(n):\n",
    "    A = np.zeros(2*n-1)\n",
    "    for i in range(n):\n",
    "        for j in range(n):\n",
    "            if i == j:\n",
    "                temp = quad(integrand, -math.pi, math.pi)\n",
    "                A[0] = (temp[0]/2/math.pi)\n",
    "            else:\n",
    "                k = i-j\n",
    "                temp = quad(integrand_2, -math.pi, math.pi, args=(k))\n",
    "                if i>j:\n",
    "                    A[k] = (temp[0]/2/math.pi)\n",
    "                elif i<j:\n",
    "                    A[n-k-1] = (temp[0]/2/math.pi)\n",
    "    Matrix = np.zeros((n,n))\n",
    "    for i in range(n):\n",
    "        for j in range(n):\n",
    "            if i == j:\n",
    "                Matrix[i][j] = A[0]\n",
    "            elif i>j:\n",
    "                Matrix[i][j] = A[i-j]\n",
    "            elif i<j:\n",
    "                Matrix[i][j] = A[n-i+j-1]\n",
    "    return Matrix"
   ]
  },
  {
   "cell_type": "markdown",
   "id": "e39788ee",
   "metadata": {},
   "source": [
    "Then according to the project statement, I figured out the fast way to get this toeplitz matrix.\n",
    "First we will make $f(\\theta)$ as a vector for $\\theta \\in (-\\pi,\\pi)$. Here I picked 10000 discretized point to make it more accurate.\n",
    "\n",
    "Then we need to take fourier transform of this vector and just take the real part, and divided by the lenth of the vector. Here is $10000$. Till now we obtained a $10000$x$1$ vector.\n",
    "\n",
    "After this we can get our toeplitz column by taking the first $n$ values of this vector. Further, we make the odd index negtive as it is before. Finally we toeplitz this vector, we will get our toeplitz matirx. \n",
    "\n",
    "This one has $O(nlogn)$ complexity, which is very fast forming a large matrix.\n",
    "\n",
    "My implentament and simple example will be shown as following:"
   ]
  },
  {
   "cell_type": "code",
   "execution_count": 348,
   "id": "55d626eb",
   "metadata": {},
   "outputs": [],
   "source": [
    "def toeplitz_b(n):\n",
    "    theta = np.linspace(-np.pi,np.pi,10000)\n",
    "    f = (theta**4 +1)\n",
    "    col = np.real(np.fft.fft(f))/len(f)\n",
    "    ak = col[0:n]\n",
    "    ak[1:][::2] = -ak[1:][::2]\n",
    "    return scipy.linalg.toeplitz(ak)"
   ]
  },
  {
   "cell_type": "code",
   "execution_count": 349,
   "id": "446afaa1",
   "metadata": {},
   "outputs": [
    {
     "name": "stdout",
     "output_type": "stream",
     "text": [
      "Simple example for sencond toeplitz matirx when n=3:\n",
      " [[ 20.48961223 -15.48460911   8.37295078]\n",
      " [-15.48460911  20.48961223 -15.48460911]\n",
      " [  8.37295078 -15.48460911  20.48961223]]\n"
     ]
    }
   ],
   "source": [
    "print('Simple example for sencond toeplitz matirx when n=3:\\n',toeplitz_b(3))"
   ]
  },
  {
   "cell_type": "markdown",
   "id": "16c56045",
   "metadata": {},
   "source": [
    "## Preconditioner building"
   ]
  },
  {
   "cell_type": "markdown",
   "id": "80c2a751",
   "metadata": {},
   "source": [
    "In this portion, I will detailed express my implentation forming G_strang and T_chan preconditioner."
   ]
  },
  {
   "cell_type": "markdown",
   "id": "53931562",
   "metadata": {},
   "source": [
    "### G_Strang's circulant preconditioner\n",
    "\n",
    "$c_j = a_j$ if $0\\leq j\\leq [n/2]$\n",
    "\n",
    "$c_j = a_{j-n}$ if $[n/2] \\leq j$ < $n$\n",
    "\n",
    "$c_j = a_{n+j}$ if $0$ < $-j$ < $n$\n",
    "\n",
    "$[x]$ signifies the closest integer(smaller) than $x$.\n",
    "\n",
    "To implement this, I created a function that could transform $k$ index into location for $A$ matrix. This problem is basically a index-location transformation. My method has $O(n^2)$ as I create a loop within loop.\n",
    "\n",
    "Here is how I implemment this:"
   ]
  },
  {
   "cell_type": "code",
   "execution_count": 123,
   "id": "3df8ce62",
   "metadata": {},
   "outputs": [],
   "source": [
    "def G_strang(n, A):\n",
    "    C = np.zeros((n,n))\n",
    "    for i in range(n):\n",
    "        for j in range(n):\n",
    "            if j < i:\n",
    "                k = -n + i - j\n",
    "            else:\n",
    "                k = i - j \n",
    "            if 0 <= k <= math.floor(n/2):\n",
    "                kx, ky = A_matrix_index(k, n)\n",
    "                C[i, j] = A[kx, ky]\n",
    "            elif  math.floor(n/2) < k < n:\n",
    "                k = k - n\n",
    "                kx, ky = A_matrix_index(k, n)\n",
    "                C[i, j] = A[kx, ky]\n",
    "            elif 0 < -k < n:\n",
    "                k = n + k\n",
    "                if math.floor(n/2) < k < n:\n",
    "                    k = k - n\n",
    "                kx, ky = A_matrix_index(k, n)\n",
    "                C[i, j] = A[kx, ky]            \n",
    "    return C"
   ]
  },
  {
   "cell_type": "code",
   "execution_count": 355,
   "id": "e76d61ea",
   "metadata": {},
   "outputs": [
    {
     "name": "stdout",
     "output_type": "stream",
     "text": [
      "Simple example of G_Strang preconditioner:\n",
      " [[1.   0.25 0.25]\n",
      " [0.25 1.   0.25]\n",
      " [0.25 0.25 1.  ]]\n"
     ]
    }
   ],
   "source": [
    "print('Simple example of G_Strang preconditioner:\\n',G_strang(3,toeplitz_1(3,2)))"
   ]
  },
  {
   "cell_type": "markdown",
   "id": "24dc2dc8",
   "metadata": {},
   "source": [
    "This G_strang_fast function is used to return the first column instead of the whole matrix, as we can see below, it is only $O(n)$ because I set j is always 0. In this case, if we need a big size matrix, this will be way faster because in the FFT, we are going to take only the first column, which I will state in the CG_FFT portion."
   ]
  },
  {
   "cell_type": "code",
   "execution_count": 339,
   "id": "2ab4f332",
   "metadata": {},
   "outputs": [],
   "source": [
    "def G_strang_fast(n, A):\n",
    "    C = np.zeros(n)\n",
    "    for i in range(n):\n",
    "        j = 0 # Difference: here, j is always 0.\n",
    "        if j < i:\n",
    "            k = -n + i - j\n",
    "        else:\n",
    "            k = i - j \n",
    "        if 0 <= k <= math.floor(n/2):\n",
    "            kx, ky = A_matrix_index(k, n)\n",
    "            C[i] = A[kx, ky]\n",
    "        elif  math.floor(n/2) < k < n:\n",
    "            k = k - n\n",
    "            kx, ky = A_matrix_index(k, n)\n",
    "            C[i] = A[kx, ky]\n",
    "        elif 0 < -k < n:\n",
    "            k = n + k\n",
    "            if math.floor(n/2) < k < n:\n",
    "                k = k - n\n",
    "            kx, ky = A_matrix_index(k, n)\n",
    "            C[i] = A[kx, ky]            \n",
    "    return C"
   ]
  },
  {
   "cell_type": "code",
   "execution_count": 357,
   "id": "4ef37261",
   "metadata": {},
   "outputs": [
    {
     "name": "stdout",
     "output_type": "stream",
     "text": [
      "Same example: [1.   0.25 0.25]\n"
     ]
    }
   ],
   "source": [
    "print('Same example:',G_strang_fast(3,toeplitz_1(3,2)))"
   ]
  },
  {
   "cell_type": "markdown",
   "id": "d223b4ad",
   "metadata": {},
   "source": [
    "This is the index-location transformation for $A$ matrix as I stated before. Here, we need the index $k$ and the matrix size $n$ in order to return the location.\n",
    "\n",
    "My function is given as following:"
   ]
  },
  {
   "cell_type": "code",
   "execution_count": 124,
   "id": "e4b7cd26",
   "metadata": {},
   "outputs": [],
   "source": [
    "def A_matrix_index(k, n):\n",
    "    if k <= 0:\n",
    "    # If k is less than or equal to 0, we could only consider the first row of A matrix to get it's location.\n",
    "        kx = 0\n",
    "        ky = -k\n",
    "    elif k > 0:\n",
    "    # If k is greater than 0, we could only consider the first column of A matrix to get it's location.\n",
    "        kx = k\n",
    "        ky = 0\n",
    "    # This is in T_chan's case if k - n = n or -n in this case we use k = 0\n",
    "    if k == n or k == -n:\n",
    "        kx = ky = 0\n",
    "    return kx, ky"
   ]
  },
  {
   "cell_type": "markdown",
   "id": "ca935780",
   "metadata": {},
   "source": [
    "### T_Chan's circulant preconditioner\n",
    "\n",
    "Similarly with G_Strang's preconditioner, we have T_chan's preconditioner:\n",
    "\n",
    "$C_j$ = $\\frac{(n-j)a_j+ja_{j-n}}{n}$, if $0 \\leq j \\leq n$\n",
    "\n",
    "$C_j$ = $c_{n+j}$, if $0$ <  $-j$ < $n$\n",
    "\n",
    "It has the same complexity with G_Strang's preconditioner, $O(n^2)$. So it has the same issue when we require a giant size matrix transformation.\n",
    "\n",
    "In this case, we also need a fast T_chan matrix to get the first column and make the transformation faster."
   ]
  },
  {
   "cell_type": "code",
   "execution_count": 125,
   "id": "1bc50e44",
   "metadata": {},
   "outputs": [],
   "source": [
    "def T_chan(n, A):\n",
    "    C = np.zeros((n,n))\n",
    "    for i in range(n):\n",
    "        for j in range(n):\n",
    "            if j < i:\n",
    "                k = -n + i - j\n",
    "            else:\n",
    "                k = i - j\n",
    "            if 0 <= k < n:\n",
    "                kx1, ky1 = A_matrix_index(k, n)\n",
    "                kx2, ky2 = A_matrix_index(k-n, n)\n",
    "                C[i, j] = ((n-k)*A[kx1, ky1] + k*A[kx2, ky2])/n\n",
    "            else:\n",
    "                k = k + n\n",
    "                kx1, ky1 = A_matrix_index(k, n)\n",
    "                kx2, ky2 = A_matrix_index(k-n, n)\n",
    "                C[i, j] = ((n-k)*A[kx1, ky1] + k*A[kx2, ky2])/n\n",
    "    \n",
    "    return C"
   ]
  },
  {
   "cell_type": "code",
   "execution_count": 359,
   "id": "d5bf0a12",
   "metadata": {},
   "outputs": [
    {
     "name": "stdout",
     "output_type": "stream",
     "text": [
      "Simple example of T_chan with same condition as G_strang:\n",
      " [[1.        0.2037037 0.2037037]\n",
      " [0.2037037 1.        0.2037037]\n",
      " [0.2037037 0.2037037 1.       ]]\n"
     ]
    }
   ],
   "source": [
    "print('Simple example of T_chan with same condition as G_strang:\\n',T_chan(3,toeplitz_1(3,2)))"
   ]
  },
  {
   "cell_type": "markdown",
   "id": "e47e61e2",
   "metadata": {},
   "source": [
    "This would be the T_chan_fast function returning the first column of the preconditioner matrix.\n",
    "\n",
    "Similarly, it is only $O(n)$ because $j$ is set as $0$."
   ]
  },
  {
   "cell_type": "code",
   "execution_count": 345,
   "id": "d7cb0139",
   "metadata": {},
   "outputs": [],
   "source": [
    "def T_chan_fast(n, A):\n",
    "    C = np.zeros(n)\n",
    "    for i in range(n):\n",
    "        j = 0\n",
    "        if j < i:\n",
    "            k = -n + i - j\n",
    "        else:\n",
    "            k = i - j\n",
    "        if 0 <= k < n:\n",
    "            kx1, ky1 = A_matrix_index(k, n)\n",
    "            kx2, ky2 = A_matrix_index(k-n, n)\n",
    "            C[i] = ((n-k)*A[kx1, ky1] + k*A[kx2, ky2])/n\n",
    "        else:\n",
    "            k = k + n\n",
    "            kx1, ky1 = A_matrix_index(k, n)\n",
    "            kx2, ky2 = A_matrix_index(k-n, n)\n",
    "            C[i] = ((n-k)*A[kx1, ky1] + k*A[kx2, ky2])/n\n",
    "    \n",
    "    return C"
   ]
  },
  {
   "cell_type": "code",
   "execution_count": 361,
   "id": "9f1c69bb",
   "metadata": {},
   "outputs": [
    {
     "name": "stdout",
     "output_type": "stream",
     "text": [
      "Simple example of T_chan with same condition as G_strang:\n",
      " [1.        0.2037037 0.2037037]\n"
     ]
    }
   ],
   "source": [
    "print('Simple example of T_chan with same condition as G_strang:\\n',T_chan_fast(3,toeplitz_1(3,2)))"
   ]
  },
  {
   "cell_type": "markdown",
   "id": "3b529b6b",
   "metadata": {},
   "source": [
    "Now it is a good time to go back and read the CG_FFT algorithm"
   ]
  },
  {
   "cell_type": "markdown",
   "id": "3f51c083",
   "metadata": {},
   "source": [
    "## Results and Comments"
   ]
  },
  {
   "cell_type": "markdown",
   "id": "06a8e80b",
   "metadata": {},
   "source": [
    "I picked $b$ matrix as $1$ at the first place and $0$s at other places. Now let's count the CPU time"
   ]
  },
  {
   "cell_type": "markdown",
   "id": "0a483b39",
   "metadata": {},
   "source": [
    "### First topelize system\n",
    "\n",
    "### CG method with toeplitz system A"
   ]
  },
  {
   "cell_type": "code",
   "execution_count": 405,
   "id": "917095d2",
   "metadata": {},
   "outputs": [
    {
     "name": "stdout",
     "output_type": "stream",
     "text": [
      "[ 1.07071523e+00 -2.51649958e-01 -4.80171812e-02 -2.19600584e-02\n",
      " -1.28180240e-02 -8.47300072e-03 -6.04629146e-03 -4.54474684e-03\n",
      " -3.54795233e-03 -2.85082386e-03 -2.34320723e-03 -1.96157661e-03\n",
      " -1.66713922e-03 -1.43505532e-03 -1.24878258e-03 -1.09694076e-03\n",
      " -9.71485876e-04 -8.66599886e-04 -7.77990075e-04 -7.02433030e-04\n",
      " -6.37469928e-04 -5.81198361e-04 -5.32127332e-04 -4.89074475e-04\n",
      " -4.51092086e-04 -4.17413082e-04 -3.87411023e-04 -3.60570137e-04\n",
      " -3.36462608e-04 -3.14731170e-04 -2.95075632e-04 -2.77242367e-04\n",
      " -2.61016037e-04 -2.46213042e-04 -2.32676314e-04 -2.20271176e-04\n",
      " -2.08882067e-04 -1.98410000e-04 -1.88770684e-04 -1.79893316e-04\n",
      " -1.71720139e-04 -1.64207105e-04 -1.57326322e-04 -1.51071895e-04\n",
      " -1.45473013e-04 -1.40624981e-04 -1.36773831e-04 -1.34597962e-04\n",
      " -1.36601121e-04 -1.69699096e-04] 12\n",
      "CG time spend for n = 50, first toeplitz matrix : 0.0011150836944580078 s\n",
      "CG time spend for n = 400, first toeplitz matrix : 0.0013210773468017578 s\n",
      "CG time spend for n = 800, first toeplitz matrix : 0.0012619495391845703 s\n",
      "CG time spend for n = 2000, first toeplitz matrix : 0.02155017852783203 s\n",
      "CG time spend for n = 4000, first toeplitz matrix : 0.08359622955322266 s\n",
      "CG time spend for n = 8000, first toeplitz matrix : 0.4162929058074951 s\n"
     ]
    }
   ],
   "source": [
    "# Regular CG method\n",
    "n_matrix = [50,400,800,2000,4000,8000]\n",
    "p = [2,1,1/10,1/100]\n",
    "\n",
    "for n in n_matrix:\n",
    "    \n",
    "    b = np.zeros(n)\n",
    "    b[0] = 1\n",
    "    A1 = toeplitz_1(n,p[0])\n",
    "    start = time.time()\n",
    "    result,iteration = conjugate_grad(A1,b)\n",
    "    end = time.time()\n",
    "    # print(iteration)\n",
    "    if n == 50:\n",
    "        print(result, iteration)\n",
    "        print(f'CG time spend for n = {n}, first toeplitz matrix :', end - start,'s')\n",
    "    else:\n",
    "        print(f'CG time spend for n = {n}, first toeplitz matrix :', end - start,'s')"
   ]
  },
  {
   "cell_type": "markdown",
   "id": "eff38b62",
   "metadata": {},
   "source": [
    "Here I did not loop in different $p$ to better show the result, and I just show $n$ = $50$'s result to compare the result with $PCG$ to make sure if they are right. Large n I just gave time consuming. We can modify $p$ value to test the result but it will not impact the speed. The most time spend will be forming the $A$ mtraix and $b$ matrix. We can also see that the time consuming in $CG$ is becoming large if we hit a large number, and it will increase expotentially."
   ]
  },
  {
   "cell_type": "markdown",
   "id": "60f5b683",
   "metadata": {},
   "source": [
    "### CG method for toeplitz system B(FFT version)"
   ]
  },
  {
   "cell_type": "code",
   "execution_count": 406,
   "id": "d8e025c3",
   "metadata": {},
   "outputs": [
    {
     "name": "stdout",
     "output_type": "stream",
     "text": [
      "[ 1.36698293e-01  1.51232063e-01  7.56490781e-02  2.22610645e-02\n",
      " -3.07095815e-03 -6.80922815e-03 -5.00473737e-03 -1.61258291e-03\n",
      " -3.69423174e-04  4.17313430e-04  1.54857867e-04  2.21577732e-04\n",
      " -4.70554347e-05  6.16414300e-05 -7.32630674e-05  4.49778501e-05\n",
      " -4.99364188e-05  4.20838659e-05 -3.73729721e-05  3.47865152e-05\n",
      " -3.11350124e-05  2.84732256e-05 -2.62451990e-05  2.40919132e-05\n",
      " -2.21628896e-05  2.06960467e-05 -1.91225784e-05  1.77760338e-05\n",
      " -1.67465852e-05  1.55549722e-05 -1.45847151e-05  1.38314420e-05\n",
      " -1.29238867e-05  1.21791013e-05 -1.16229435e-05  1.09342105e-05\n",
      " -1.03266793e-05  9.90684224e-06 -9.39903034e-06  8.89954529e-06\n",
      " -8.52494819e-06  8.22123230e-06 -7.82310480e-06  7.27152106e-06\n",
      " -7.70620349e-06  6.42037494e-06 -6.52256861e-06  9.33720083e-06\n",
      "  1.25142483e-06  1.91989311e-05] 42\n",
      "CG time spend for n = 50, second toeplitz matrix : 0.0044002532958984375 s\n",
      "CG time spend for n = 400, second toeplitz matrix : 0.0035660266876220703 s\n",
      "CG time spend for n = 800, second toeplitz matrix : 0.005469799041748047 s\n",
      "CG time spend for n = 2000, second toeplitz matrix : 0.08728599548339844 s\n",
      "CG time spend for n = 4000, second toeplitz matrix : 0.6187300682067871 s\n",
      "CG time spend for n = 8000, second toeplitz matrix : 2.3951408863067627 s\n"
     ]
    }
   ],
   "source": [
    "n_matrix = [50,400,800,2000,4000,8000]\n",
    "p = [2,1,1/10,1/100]\n",
    "\n",
    "for n in n_matrix:\n",
    "\n",
    "    b = np.zeros(n)\n",
    "    b[0] = 1\n",
    "    A1 = toeplitz_b(n)\n",
    "    start = time.time()  \n",
    "    result,iteration = conjugate_grad(A1,b)\n",
    "    end = time.time()\n",
    "    # print(iteration)\n",
    "    if n == 50:\n",
    "        print(result, iteration)\n",
    "        print(f'CG time spend for n = {n}, second toeplitz matrix :', end - start,'s')\n",
    "    else:\n",
    "        print(f'CG time spend for n = {n}, second toeplitz matrix :', end - start,'s')"
   ]
  },
  {
   "cell_type": "markdown",
   "id": "cbb259b4",
   "metadata": {},
   "source": [
    "This is the FFT toeplitz matrix, it is very fast because we used a fast way to form the matrix. It could match the result we got from last version that most of the time spent is making the matrix. I tried my previous integral version, that one will take forever to run if we have large n because it is  $O(n^3)$ as stated before."
   ]
  },
  {
   "cell_type": "markdown",
   "id": "eb77401d",
   "metadata": {},
   "source": [
    "## PCG for toeplitz A in G_strang conditioner"
   ]
  },
  {
   "cell_type": "code",
   "execution_count": 408,
   "id": "5fcfc1e8",
   "metadata": {},
   "outputs": [
    {
     "name": "stdout",
     "output_type": "stream",
     "text": [
      "[ 1.07071523e+00 -2.51649957e-01 -4.80171813e-02 -2.19600632e-02\n",
      " -1.28179946e-02 -8.47310410e-03 -6.04611864e-03 -4.54482565e-03\n",
      " -3.54804648e-03 -2.85080684e-03 -2.34313239e-03 -1.96152074e-03\n",
      " -1.66713344e-03 -1.43509056e-03 -1.24883409e-03 -1.09698597e-03\n",
      " -9.71511636e-04 -8.66602641e-04 -7.77973044e-04 -7.02402887e-04\n",
      " -6.37434169e-04 -5.81163632e-04 -5.32098601e-04 -4.89054827e-04\n",
      " -4.51082903e-04 -4.17414117e-04 -3.87422791e-04 -3.60587062e-04\n",
      " -3.36483586e-04 -3.14754625e-04 -2.95099914e-04 -2.77265942e-04\n",
      " -2.61037601e-04 -2.46231582e-04 -2.32691129e-04 -2.20281872e-04\n",
      " -2.08888537e-04 -1.98412389e-04 -1.88769355e-04 -1.79888807e-04\n",
      " -1.71713131e-04 -1.64198375e-04 -1.57316664e-04 -1.51061967e-04\n",
      " -1.45463118e-04 -1.40614814e-04 -1.36761330e-04 -1.34576978e-04\n",
      " -1.36555651e-04 -1.69697754e-04] 5\n",
      "G_strang PCG time spend for n = 50, first toeplitz matrix : 0.0016021728515625 s\n",
      "G_strang PCG time spend for n = 400, first toeplitz matrix : 0.0011661052703857422 s\n",
      "G_strang PCG time spend for n = 800, first toeplitz matrix : 0.0018792152404785156 s\n",
      "G_strang PCG time spend for n = 2000, first toeplitz matrix : 0.0022950172424316406 s\n",
      "G_strang PCG time spend for n = 4000, first toeplitz matrix : 0.006659269332885742 s\n",
      "G_strang PCG time spend for n = 8000, first toeplitz matrix : 0.03297996520996094 s\n"
     ]
    }
   ],
   "source": [
    "# Regular CG method\n",
    "n_matrix = [50,400,800,2000,4000,8000]\n",
    "p = [2,1,1/10,1/100]\n",
    "\n",
    "for n in n_matrix:\n",
    "   \n",
    "    b = np.zeros(n)\n",
    "    b[0] = 1\n",
    "    A = toeplitz_1(n,p[0])\n",
    "    A_increase = A_2n_fast(A)\n",
    "    C = G_strang_fast(n,A)\n",
    "    start = time.time()\n",
    "    result,iteration = pcg_fft(A,n,A_increase,b,C)\n",
    "    end = time.time()\n",
    "    # print(iteration)\n",
    "    if n == 50:\n",
    "        print(result, iteration)\n",
    "        print(f'G_strang PCG time spend for n = {n}, first toeplitz matrix :', end - start,'s')\n",
    "    else:\n",
    "        print(f'G_strang PCG time spend for n = {n}, first toeplitz matrix :', end - start,'s')\n",
    "# result, iteration = pcg_fft(test_b,n,A_increase,b,C)\n",
    "# # print(iteration)\n",
    "# print(result)"
   ]
  },
  {
   "cell_type": "markdown",
   "id": "4d6c796a",
   "metadata": {},
   "source": [
    "We can see that the time consuming is a little bit small than CG, the main reason as I stated, it was because forming the inital matrix took a long time. And my computer for CG is very fast, I think if I have a worse computer, the difference bettween them will be very large. Right now because forming matrix takes so long, we can't see much difference. But we can see the itertion in PCG takes less time. In addition, if my coding skill is better, then I can write more efficient code to form initial matrix and preconditioners so that the difference will be better recognized.\n",
    "\n",
    "Similiarly if we use T-chan preconditioner:"
   ]
  },
  {
   "cell_type": "markdown",
   "id": "9eb588ba",
   "metadata": {},
   "source": [
    "### PCG for toeplitz A in T-chan preconditoner"
   ]
  },
  {
   "cell_type": "code",
   "execution_count": 409,
   "id": "79e97b28",
   "metadata": {},
   "outputs": [
    {
     "name": "stdout",
     "output_type": "stream",
     "text": [
      "[ 1.07071523e+00 -2.51649922e-01 -4.80172263e-02 -2.19600945e-02\n",
      " -1.28180115e-02 -8.47311065e-03 -6.04611822e-03 -4.54482063e-03\n",
      " -3.54803849e-03 -2.85079703e-03 -2.34312157e-03 -1.96150949e-03\n",
      " -1.66712218e-03 -1.43507960e-03 -1.24882366e-03 -1.09697625e-03\n",
      " -9.71502748e-04 -8.66594692e-04 -7.77966111e-04 -7.02397030e-04\n",
      " -6.37429433e-04 -5.81160051e-04 -5.32096196e-04 -4.89053599e-04\n",
      " -4.51082794e-04 -4.17415273e-04 -3.87423555e-04 -3.60591205e-04\n",
      " -3.36490064e-04 -3.14762773e-04 -2.95109236e-04 -2.77276045e-04\n",
      " -2.61048152e-04 -2.46242281e-04 -2.32701690e-04 -2.20292005e-04\n",
      " -2.08897931e-04 -1.98420699e-04 -1.88776184e-04 -1.79893694e-04\n",
      " -1.71715536e-04 -1.64197674e-04 -1.57312167e-04 -1.51053001e-04\n",
      " -1.45449279e-04 -1.40596691e-04 -1.36742600e-04 -1.34570924e-04\n",
      " -1.36606029e-04 -1.69683168e-04] 5\n",
      "T_chan PCG time spend for n = 50, first toeplitz matrix : 0.002228975296020508 s\n",
      "T_chan PCG time spend for n = 400, first toeplitz matrix : 0.0011932849884033203 s\n",
      "T_chan PCG time spend for n = 800, first toeplitz matrix : 0.001033782958984375 s\n",
      "T_chan PCG time spend for n = 2000, first toeplitz matrix : 0.004314899444580078 s\n",
      "T_chan PCG time spend for n = 4000, first toeplitz matrix : 0.008785009384155273 s\n",
      "T_chan PCG time spend for n = 8000, first toeplitz matrix : 0.02964496612548828 s\n"
     ]
    }
   ],
   "source": [
    "n_matrix = [50,400,800,2000,4000,8000]\n",
    "p = [2,1,1/10,1/100]\n",
    "\n",
    "for n in n_matrix:\n",
    "\n",
    "    b = np.zeros(n)\n",
    "    b[0] = 1\n",
    "    A = toeplitz_1(n,p[0])\n",
    "    A_increase = A_2n_fast(A)\n",
    "    C = T_chan_fast(n,A)\n",
    "    start = time.time()\n",
    "    result,iteration = pcg_fft(A,n,A_increase,b,C)\n",
    "    end = time.time()\n",
    "    # print(iteration)\n",
    "    if n == 50:\n",
    "        print(result, iteration)\n",
    "        print(f'T_chan PCG time spend for n = {n}, first toeplitz matrix :', end - start,'s')\n",
    "    else:\n",
    "        print(f'T_chan PCG time spend for n = {n}, first toeplitz matrix :', end - start,'s')"
   ]
  },
  {
   "cell_type": "markdown",
   "id": "1cb6778d",
   "metadata": {},
   "source": [
    "### PCG for toeplitz b G_strang"
   ]
  },
  {
   "cell_type": "code",
   "execution_count": 410,
   "id": "0f2356ae",
   "metadata": {},
   "outputs": [
    {
     "name": "stdout",
     "output_type": "stream",
     "text": [
      "[ 1.36698292e-01  1.51232059e-01  7.56490527e-02  2.22610546e-02\n",
      " -3.07094023e-03 -6.80919938e-03 -5.00468074e-03 -1.61251424e-03\n",
      " -3.69327417e-04  4.17415942e-04  1.54969824e-04  2.21669291e-04\n",
      " -4.69931464e-05  6.16473319e-05 -7.33135338e-05  4.48755858e-05\n",
      " -5.00582174e-05  4.19849705e-05 -3.74107037e-05  3.48302184e-05\n",
      " -3.10379261e-05  2.85736239e-05 -2.62104869e-05  2.40421013e-05\n",
      " -2.22701746e-05  2.05994720e-05 -1.91452274e-05  1.78379560e-05\n",
      " -1.66547616e-05  1.55930090e-05 -1.46278037e-05  1.37517960e-05\n",
      " -1.29536567e-05  1.22242246e-05 -1.15569971e-05  1.09431845e-05\n",
      " -1.03817673e-05  9.86220021e-06 -9.37974199e-06  8.95632908e-06\n",
      " -8.51301875e-06  8.17730860e-06 -7.85963734e-06  7.29595921e-06\n",
      " -7.65917158e-06  6.41682521e-06 -6.56706196e-06  9.31712827e-06\n",
      "  1.29201770e-06  1.92362305e-05] 6\n",
      "G_strang PCG time spend for n = 50, second toeplitz matrix : 0.0014541149139404297 s\n",
      "G_strang PCG time spend for n = 400, second toeplitz matrix : 0.0015239715576171875 s\n",
      "G_strang PCG time spend for n = 800, second toeplitz matrix : 0.0019469261169433594 s\n",
      "G_strang PCG time spend for n = 2000, second toeplitz matrix : 0.003049135208129883 s\n",
      "G_strang PCG time spend for n = 4000, second toeplitz matrix : 0.004415035247802734 s\n",
      "G_strang PCG time spend for n = 8000, second toeplitz matrix : 0.009781837463378906 s\n"
     ]
    }
   ],
   "source": [
    "n_matrix = [50,400,800,2000,4000,8000]\n",
    "p = [2,1,1/10,1/100]\n",
    "\n",
    "for n in n_matrix:\n",
    "   \n",
    "    b = np.zeros(n)\n",
    "    b[0] = 1\n",
    "    A = toeplitz_b(n)\n",
    "    A_increase = A_2n_fast(A)\n",
    "    C = G_strang_fast(n,A)\n",
    "    start = time.time()\n",
    "    result,iteration = pcg_fft(A,n,A_increase,b,C)\n",
    "    end = time.time()\n",
    "    # print(iteration)\n",
    "    if n == 50:\n",
    "        print(result, iteration)\n",
    "        print(f'G_strang PCG time spend for n = {n}, second toeplitz matrix :', end - start,'s')\n",
    "    else:\n",
    "        print(f'G_strang PCG time spend for n = {n}, second toeplitz matrix :', end - start,'s')"
   ]
  },
  {
   "cell_type": "markdown",
   "id": "392ce164",
   "metadata": {},
   "source": [
    "### PCG for toeplitz b T_chan"
   ]
  },
  {
   "cell_type": "code",
   "execution_count": 411,
   "id": "98948e88",
   "metadata": {},
   "outputs": [
    {
     "name": "stdout",
     "output_type": "stream",
     "text": [
      "[ 1.36698292e-01  1.51232064e-01  7.56490802e-02  2.22610756e-02\n",
      " -3.07094057e-03 -6.80919486e-03 -5.00468624e-03 -1.61250945e-03\n",
      " -3.69331114e-04  4.17416575e-04  1.54964422e-04  2.21669732e-04\n",
      " -4.69940491e-05  6.16501267e-05 -7.33128286e-05  4.48763240e-05\n",
      " -5.00592261e-05  4.19828174e-05 -3.74124449e-05  3.48292643e-05\n",
      " -3.10320638e-05  2.85866390e-05 -2.61876007e-05  2.40633921e-05\n",
      " -2.22587672e-05  2.06026496e-05 -1.91456412e-05  1.78364658e-05\n",
      " -1.66556671e-05  1.55925422e-05 -1.46278267e-05  1.37516345e-05\n",
      " -1.29538837e-05  1.22238311e-05 -1.15569120e-05  1.09440826e-05\n",
      " -1.03798352e-05  9.86403339e-06 -9.37985307e-06  8.95294502e-06\n",
      " -8.51858297e-06  8.17371683e-06 -7.85892554e-06  7.29996227e-06\n",
      " -7.65767426e-06  6.41834537e-06 -6.56563223e-06  9.31917351e-06\n",
      "  1.29274257e-06  1.92361473e-05] 8\n",
      "T_chan PCG time spend for n = 50, second toeplitz matrix : 0.0016071796417236328 s\n",
      "T_chan PCG time spend for n = 400, second toeplitz matrix : 0.0015218257904052734 s\n",
      "T_chan PCG time spend for n = 800, second toeplitz matrix : 0.0019741058349609375 s\n",
      "T_chan PCG time spend for n = 2000, second toeplitz matrix : 0.0076329708099365234 s\n",
      "T_chan PCG time spend for n = 4000, second toeplitz matrix : 0.005408048629760742 s\n",
      "T_chan PCG time spend for n = 8000, second toeplitz matrix : 0.009585857391357422 s\n"
     ]
    }
   ],
   "source": [
    "n_matrix = [50,400,800,2000,4000,8000]\n",
    "p = [2,1,1/10,1/100]\n",
    "\n",
    "for n in n_matrix:\n",
    "   \n",
    "    b = np.zeros(n)\n",
    "    b[0] = 1\n",
    "    A = toeplitz_b(n)\n",
    "    A_increase = A_2n_fast(A)\n",
    "    C = T_chan_fast(n,A)\n",
    "    start = time.time()\n",
    "    result,iteration = pcg_fft(A,n,A_increase,b,C)\n",
    "    end = time.time()\n",
    "    # print(iteration)\n",
    "    if n == 50:\n",
    "        print(result, iteration)\n",
    "        print(f'T_chan PCG time spend for n = {n}, second toeplitz matrix :', end - start,'s')\n",
    "    else:\n",
    "        print(f'T_chan PCG time spend for n = {n}, second toeplitz matrix :', end - start,'s')"
   ]
  },
  {
   "cell_type": "markdown",
   "id": "18f31117",
   "metadata": {},
   "source": [
    "To conclude, we can see that when we use PCG for toeplitz system b, we get time increase $O(nlogn)$ which is smaller than the CG increase. \n"
   ]
  }
 ],
 "metadata": {
  "kernelspec": {
   "display_name": "Python 3 (ipykernel)",
   "language": "python",
   "name": "python3"
  },
  "language_info": {
   "codemirror_mode": {
    "name": "ipython",
    "version": 3
   },
   "file_extension": ".py",
   "mimetype": "text/x-python",
   "name": "python",
   "nbconvert_exporter": "python",
   "pygments_lexer": "ipython3",
   "version": "3.9.5"
  }
 },
 "nbformat": 4,
 "nbformat_minor": 5
}
